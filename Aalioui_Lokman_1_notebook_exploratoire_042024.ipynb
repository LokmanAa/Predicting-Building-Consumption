{
 "cells": [
  {
   "cell_type": "markdown",
   "metadata": {},
   "source": [
    "## <a name=\"C4\"> Projet 4-1 : Anticipez les besoins en consommation de bâtiments</a>"
   ]
  },
  {
   "cell_type": "markdown",
   "metadata": {},
   "source": [
    "La transition vers des villes respectueuses de l'environnement est une priorité mondiale. Dans cette optique, la ville de Seattle s'est fixé un objectif ambitieux : devenir neutre en émissions de carbone d'ici 2050. Pour atteindre cet objectif, il est crucial de comprendre et de réduire la consommation d'énergie ainsi que les émissions de CO2 des bâtiments non destinés à l'habitation. Cependant, la collecte de données précises sur ces aspects peut s'avérer coûteuse. Dans ce contexte, notre mission consiste à anticiper les besoins en consommation de ces bâtiments en se basant sur des données structurelles disponibles, tout en évaluant l'intérêt de l'\"ENERGY STAR Score\" pour prédire les émissions de CO2. Cette tâche nécessitera une approche rigoureuse de modélisation et d'évaluation des performances."
   ]
  },
  {
   "cell_type": "markdown",
   "metadata": {},
   "source": [
    "## <a name=\"C4\"> Mise en Place de l'Environnement de Travail</a>"
   ]
  },
  {
   "cell_type": "markdown",
   "metadata": {},
   "source": [
    "Nous commençons par configurer notre environnement de travail en important les librairies nécessaires."
   ]
  },
  {
   "cell_type": "markdown",
   "metadata": {},
   "source": [
    "- Installation des Librairies"
   ]
  },
  {
   "cell_type": "code",
   "execution_count": null,
   "metadata": {},
   "outputs": [],
   "source": [
    "# Importation des librairies nécessaires pour le projet\n",
    "\n",
    "import pandas as pd \n",
    "import numpy as np \n",
    "import matplotlib.pyplot as plt \n",
    "import seaborn as sns  \n",
    "from scipy import stats  \n",
    "import missingno as msno\n",
    "import os\n",
    "os.environ['OMP_NUM_THREADS'] = '1'\n",
    "from sklearn.cluster import KMeans\n",
    "from sklearn.preprocessing import StandardScaler\n",
    "import sklearn.metrics as metrics\n",
    "from sklearn.experimental import enable_iterative_imputer\n",
    "from sklearn.impute import IterativeImputer\n",
    "from sklearn.impute import KNNImputer\n",
    "from sklearn.linear_model import LinearRegression\n",
    "from scipy.stats import pearsonr\n",
    "from scipy.stats import f_oneway\n",
    "from scipy.stats import chi2_contingency\n",
    "from sklearn.decomposition import PCA\n",
    "from sklearn.preprocessing import StandardScaler\n",
    "import matplotlib.pyplot as plt\n",
    "from scipy.stats import shapiro\n",
    "from scipy.stats import normaltest\n",
    "from sklearn.preprocessing import StandardScaler, MinMaxScaler\n",
    "from sklearn.pipeline import Pipeline\n",
    "from sklearn.impute import SimpleImputer\n",
    "from sklearn.preprocessing import OneHotEncoder\n",
    "from sklearn.compose import ColumnTransformer\n",
    "from scipy.stats import boxcox\n",
    "from sklearn.preprocessing import FunctionTransformer\n",
    "from sklearn.model_selection import train_test_split\n",
    "from scipy.stats.mstats import winsorize\n",
    "from sklearn.model_selection import train_test_split\n",
    "from sklearn.dummy import DummyRegressor\n",
    "from sklearn.linear_model import LinearRegression, Ridge, Lasso\n",
    "from sklearn.ensemble import BaggingRegressor, RandomForestRegressor, GradientBoostingRegressor\n",
    "from sklearn.metrics import mean_squared_error, r2_score\n",
    "from scipy.stats import t\n",
    "import statsmodels.api as sm\n",
    "from statsmodels.stats.stattools import durbin_watson\n",
    "from sklearn.model_selection import GridSearchCV\n",
    "from sklearn.metrics import mean_absolute_error, mean_squared_error\n",
    "from sklearn.metrics import make_scorer, mean_squared_error\n",
    "from sklearn.metrics import r2_score\n",
    "from sklearn.preprocessing import PowerTransformer\n",
    "from sklearn.model_selection import cross_val_score\n",
    "\n",
    "# Afficher les graphiques directement dans le notebook\n",
    "%matplotlib inline\n",
    "\n",
    "# Configuration de Seaborn pour améliorer l'esthétique des graphiques\n",
    "sns.set(style=\"whitegrid\")\n",
    "\n",
    "# Afficher plus de lignes et de colonnes\n",
    "pd.set_option('display.max_row',1000)\n",
    "pd.set_option('display.max_column',300)\n",
    "\n",
    "# Indication d'importations réussies\n",
    "print(\"Librairies importées avec succès !\")"
   ]
  },
  {
   "cell_type": "markdown",
   "metadata": {},
   "source": [
    "- Lecture des fichiers de données"
   ]
  },
  {
   "cell_type": "markdown",
   "metadata": {},
   "source": [
    "Nous lisons ensuite les fichiers de données issus du site de seattle.gov."
   ]
  },
  {
   "cell_type": "code",
   "execution_count": null,
   "metadata": {},
   "outputs": [],
   "source": [
    "# Chargement des fichiers CSV dans des DataFrames pandas\n",
    "data = pd.read_csv('2016_Building_Energy_Benchmarking.csv')\n",
    "# Indication d'importations réussies\n",
    "print(\"Fichier importé avec succès !\")"
   ]
  },
  {
   "cell_type": "markdown",
   "metadata": {},
   "source": [
    "- Ecriture des fonctions utiles"
   ]
  },
  {
   "cell_type": "markdown",
   "metadata": {},
   "source": [
    "Avant de préparer nos données, nous devons obtenir une description exacte de ces dernières. Pour cela, nous créons une fonction qui retourne un tableau comprenant toutes les informations dont nous avons besoin :"
   ]
  },
  {
   "cell_type": "code",
   "execution_count": null,
   "metadata": {},
   "outputs": [],
   "source": [
    "def data_info(df: pd.DataFrame):\n",
    "    desc = df.columns.to_frame(name=\"colonne\").set_index('colonne')\n",
    "    desc['nombre de valeurs non nulles'] = df.notnull().sum() \n",
    "    desc['nombre de valeurs uniques'] = df.nunique() \n",
    "    desc['type de donnée'] = df.dtypes \n",
    "    desc['nombre de valeurs nulles']=df.isna().sum()\n",
    "    desc['pourcentage de valeurs nulles']=round((df.isna().sum()/df.shape[0]*100),2)\n",
    "    return desc\n",
    "\n",
    "# Indication de réussite\n",
    "print(\"Fonction data_info créée avec succès !\")"
   ]
  },
  {
   "cell_type": "markdown",
   "metadata": {},
   "source": [
    "Nous souhaitons visualiser le taux de remplissage de certains indicateurs, pour cela nous créons une fonction qui affiche sur un histogramme le taux de remplissage des colonnes, avec la possibilité d'ignorer les colonnes non pertinentes."
   ]
  },
  {
   "cell_type": "code",
   "execution_count": null,
   "metadata": {},
   "outputs": [],
   "source": [
    "def fill_rates_plot(dataframe, ignore_columns=None):\n",
    "    # Filtrer les colonnes si nécessaire\n",
    "    if ignore_columns is not None:\n",
    "        dataframe = dataframe.drop(columns=ignore_columns, errors='ignore')\n",
    "\n",
    "    # Calcul du taux de remplissage pour chaque colonne\n",
    "    fill_rates = dataframe.notnull().mean() * 100\n",
    "\n",
    "    # Création de l'histogramme\n",
    "    plt.figure(figsize=(25, 4))\n",
    "    fill_rates.plot(kind='bar', color='steelblue')\n",
    "    plt.title('Taux de remplissage des colonnes')\n",
    "    plt.xlabel('Colonnes')\n",
    "    plt.ylabel('Taux de remplissage (%)')\n",
    "    plt.xticks(rotation=90)\n",
    "    plt.grid(True, linestyle='--', linewidth=0.5, color='lightsteelblue')\n",
    "    \n",
    "    # Affichage de l'histogramme\n",
    "    plt.show()\n",
    "    \n",
    "# Indication de réussite\n",
    "print(\"Fonction fill_rates_plot créée avec succès !\")"
   ]
  },
  {
   "cell_type": "markdown",
   "metadata": {},
   "source": [
    "Nous souhaitons automatiser la suppression de colonnes dont le taux de remplissage est inférieur à un certain seuil."
   ]
  },
  {
   "cell_type": "code",
   "execution_count": null,
   "metadata": {},
   "outputs": [],
   "source": [
    "# Fonction de suppression de colonnes\n",
    "def drop_columns(df, seuil=0.8):\n",
    "    \n",
    "    nb_observations = len(df)\n",
    "\n",
    "    for colonne in df.columns:\n",
    "        # Calculer le nombre de valeurs non nulles dans la colonne\n",
    "        nb_non_nulles = df[colonne].count()\n",
    "\n",
    "        # Calculer le taux de remplissage de la colonne\n",
    "        taux_remplissage = nb_non_nulles / nb_observations\n",
    "\n",
    "        # Si le taux de remplissage est inférieur au seuil, supprimer la colonne\n",
    "        if taux_remplissage < seuil:\n",
    "            del df[colonne]\n",
    "\n",
    "    return df.head(5)\n",
    "\n",
    "# Indication de réussite\n",
    "print(\"Fonction drop_columns créée avec succès !\")"
   ]
  },
  {
   "cell_type": "markdown",
   "metadata": {},
   "source": [
    "Nous créons une fonciton qui écarte les individus dont la valeur des variables séléctionnées est inférieure à 0 et/ou supérieure à 100."
   ]
  },
  {
   "cell_type": "code",
   "execution_count": null,
   "metadata": {},
   "outputs": [],
   "source": [
    "def outliers_cleaning(df, colonnes, inf=0, sup=100):\n",
    "    lignes_supprimees = 0 \n",
    "    for colonne in colonnes:\n",
    "        nb_lignes_avant = len(df)\n",
    "        df = df[(df[colonne] >= inf) & (df[colonne] <= sup)]\n",
    "        lignes_supprimees += nb_lignes_avant - len(df)\n",
    "    \n",
    "    return df, lignes_supprimees\n",
    "\n",
    "# Indication de réussite\n",
    "print(\"Fonction outliers_cleaning créée avec succès !\")"
   ]
  },
  {
   "cell_type": "markdown",
   "metadata": {},
   "source": [
    "Nous créons une fonction qui remplace les individus dont la valeur des variables séléctionnées est inférieure à 0 et/ou supérieure à 100 par NaN."
   ]
  },
  {
   "cell_type": "code",
   "execution_count": null,
   "metadata": {},
   "outputs": [],
   "source": [
    "def outliers_replacing(df, colonnes, inf=0, sup=100):\n",
    "    valeurs_aberrantes_remplacees = 0 \n",
    "    for colonne in colonnes:\n",
    "        valeurs_aberrantes = (df[colonne] < inf) | (df[colonne] > sup)\n",
    "        df.loc[valeurs_aberrantes, colonne] = np.nan\n",
    "        valeurs_aberrantes_remplacees += valeurs_aberrantes.sum()\n",
    "    \n",
    "    return df, valeurs_aberrantes_remplacees\n",
    "\n",
    "# Indication de réussite\n",
    "print(\"Fonction outliers_replacing créée avec succès !\")"
   ]
  },
  {
   "cell_type": "markdown",
   "metadata": {},
   "source": [
    "Nous créons une fonction afin de visualiser la distribution des variables."
   ]
  },
  {
   "cell_type": "code",
   "execution_count": null,
   "metadata": {},
   "outputs": [],
   "source": [
    "def distribution_vizualisation(df, variables):\n",
    "\n",
    "    for variable in variables:\n",
    "        plt.figure(figsize=(12, 6))\n",
    "\n",
    "        # Afficher l'histogramme et le graphique de densité\n",
    "        plt.subplot(1, 2, 1)\n",
    "        sns.histplot(df[variable], kde=True, color='blue', stat='density')\n",
    "        plt.title('Distribution de ' + variable)\n",
    "        plt.xlabel(variable)\n",
    "        plt.ylabel('Densité')\n",
    "\n",
    "        plt.tight_layout()\n",
    "        plt.show()\n",
    "        \n",
    "# Indication de réussite\n",
    "print(\"Fonction distribution_vizualisation2 créée avec succès !\")"
   ]
  },
  {
   "cell_type": "markdown",
   "metadata": {},
   "source": [
    "## <a name=\"C4\"> Préparation des données </a>\n"
   ]
  },
  {
   "cell_type": "markdown",
   "metadata": {},
   "source": [
    "Dans cette première partie du notebook, nous nous concentrerons sur l'observation initiale des données d'Open Food Facts. Notre objectif sera de comprendre la structure générale du jeu de données, d'identifier les types de variables présentes et de repérer les premiers signes de données manquantes ou aberrantes. Cette exploration préliminaire est cruciale pour déterminer les besoins spécifiques en nettoyage et en traitement des données, et poser les bases d'une analyse plus approfondie."
   ]
  },
  {
   "cell_type": "markdown",
   "metadata": {},
   "source": [
    "#### <font color='skyblue'> Observation des données </font>\n"
   ]
  },
  {
   "cell_type": "markdown",
   "metadata": {},
   "source": [
    "Pour commencer nous visualisons les premieres lignes du datafreames pour avoir une idéee de sa structure."
   ]
  },
  {
   "cell_type": "code",
   "execution_count": null,
   "metadata": {},
   "outputs": [],
   "source": [
    "print(\"Ce dataframe contient {} lignes et {} colonnes \".format(data.shape[0], data.shape[1]))\n",
    "data.head(3)"
   ]
  },
  {
   "cell_type": "markdown",
   "metadata": {},
   "source": [
    "Ensuite nous utilisons notre fonction pour avoir plus d'infos sur le dataframes."
   ]
  },
  {
   "cell_type": "code",
   "execution_count": null,
   "metadata": {},
   "outputs": [],
   "source": [
    "data_info(data)"
   ]
  },
  {
   "cell_type": "markdown",
   "metadata": {},
   "source": [
    "Nous observons le taux de remplissage."
   ]
  },
  {
   "cell_type": "code",
   "execution_count": null,
   "metadata": {},
   "outputs": [],
   "source": [
    "fill_rates_plot(data)"
   ]
  },
  {
   "cell_type": "markdown",
   "metadata": {},
   "source": [
    "Nous observons les types de nos variables."
   ]
  },
  {
   "cell_type": "code",
   "execution_count": null,
   "metadata": {},
   "outputs": [],
   "source": [
    "# affichage des types object\n",
    "object_types = data.select_dtypes(include=['object']).columns.tolist()\n",
    "print(\"Il y a \",len(object_types),\"variables catégorielles\")\n",
    "object_types"
   ]
  },
  {
   "cell_type": "code",
   "execution_count": null,
   "metadata": {},
   "outputs": [],
   "source": [
    "# affichage des types float\n",
    "num_types = data.select_dtypes(include=['float64','int64','bool']).columns.tolist()\n",
    "print(\"Il y a \",len(num_types),\"variables numériques\")\n",
    "num_types"
   ]
  },
  {
   "cell_type": "markdown",
   "metadata": {},
   "source": [
    "#### <font color='skyblue'> Prétraitement des données : approche qualité </font>\n"
   ]
  },
  {
   "cell_type": "markdown",
   "metadata": {},
   "source": [
    "Nous corrigons le type des variables :\n",
    "- DataYear doit être en object car n'est pas une variable quantitative\n",
    "- ZipCOde idem, le .0 devra être supprimé de ce fait\n",
    "- CouncilDistrictCode idem"
   ]
  },
  {
   "cell_type": "code",
   "execution_count": null,
   "metadata": {},
   "outputs": [],
   "source": [
    "# changer datayear en object\n",
    "data['DataYear'] = data['DataYear'].apply(str)\n",
    "\n",
    "# changer ZipCode en object et supprimer .0\n",
    "data['ZipCode'] = data['ZipCode'].astype('object').apply(lambda x: str(x).replace('.0',''))\n",
    "data['ZipCode'] = data['ZipCode'].where(data['ZipCode']!='nan',other=np.nan)\n",
    "\n",
    "# changer CouncilDistrictCode en object\n",
    "data['CouncilDistrictCode'] = data['CouncilDistrictCode'].apply(str).astype('object')\n"
   ]
  },
  {
   "cell_type": "markdown",
   "metadata": {},
   "source": [
    "Nous corrigons les colonnes dont le taux de remplissage est faible :\n",
    "- Outlier : remplacer NaN par non-outlier"
   ]
  },
  {
   "cell_type": "code",
   "execution_count": null,
   "metadata": {},
   "outputs": [],
   "source": [
    "# créer valeur Non-outlier, les ouliers seront supprimés par la suite\n",
    "data['Outlier'] = data['Outlier'].fillna('Non-outlier')\n",
    "data['Outlier'].value_counts()\n"
   ]
  },
  {
   "cell_type": "code",
   "execution_count": null,
   "metadata": {},
   "outputs": [],
   "source": [
    "(data['SiteEnergyUseWN(kBtu)']==0).sum()"
   ]
  },
  {
   "cell_type": "markdown",
   "metadata": {},
   "source": [
    "#### <font color='skyblue'> Prétraitement des données : approche métier </font>\n"
   ]
  },
  {
   "cell_type": "markdown",
   "metadata": {},
   "source": [
    "Nous nous intérressons dans ce projet uniquement aux immeubles qui n'ont pas un usage d'habitation."
   ]
  },
  {
   "cell_type": "code",
   "execution_count": null,
   "metadata": {},
   "outputs": [],
   "source": [
    "data['BuildingType'].unique()"
   ]
  },
  {
   "cell_type": "markdown",
   "metadata": {},
   "source": [
    "- NonResidential : Cela fait référence à des zones ou des propriétés qui ne sont pas utilisées à des fins résidentielles, mais plutôt pour des activités commerciales, industrielles ou autres.\n",
    "\n",
    "- Nonresidential COS : Il s'agit probablement d'une sous-catégorie de non-résidentiel qui pourrait spécifier un type spécifique de zonage ou d'utilisation, peut-être quelque chose lié aux services de santé ou aux services professionnels.\n",
    "\n",
    "- Multifamily MR (5-9) : Cette catégorie indique des zones ou des propriétés réservées à des immeubles d'habitation multifamiliaux de taille moyenne, généralement de 5 à 9 unités.\n",
    "\n",
    "- SPS-District K-12 : Cela semble être une désignation pour les districts scolaires qui couvrent les écoles primaires et secondaires (de la maternelle à la 12e année).\n",
    "\n",
    "- Campus : Cela fait référence à des zones ou des propriétés qui abritent des campus universitaires ou d'autres types de complexes éducatifs.\n",
    "\n",
    "- Multifamily LR (1-4) : Cette catégorie désigne des zones ou des propriétés destinées à des immeubles d'habitation multifamiliaux de petite à moyenne taille, généralement de 1 à 4 unités.\n",
    "\n",
    "- Multifamily HR (10+) : Il s'agit d'une classification pour des zones ou des propriétés destinées à des immeubles d'habitation multifamiliaux de grande taille, comprenant 10 unités ou plus.\n",
    "\n",
    "- Nonresidential WA : Cette désignation pourrait indiquer des zones ou des propriétés non résidentielles utilisées à des fins spécifiques telles que l'entreposage ou les installations industrielles, mais la signification exacte de \"WA\" dépendrait du contexte."
   ]
  },
  {
   "cell_type": "markdown",
   "metadata": {},
   "source": [
    "Les variables sélectionnées sont : ['NonResidential', 'Nonresidential COS','SPS-District K-12', 'Campus', 'Nonresidential WA']"
   ]
  },
  {
   "cell_type": "code",
   "execution_count": null,
   "metadata": {},
   "outputs": [],
   "source": [
    "# sélection des catégories d'immeuble\n",
    "data = data[data['BuildingType'].isin(['NonResidential', 'Nonresidential COS', \n",
    "       'SPS-District K-12', 'Campus', 'Nonresidential WA'])]\n",
    "\n",
    "# affichage de la shape\n",
    "print(\"Ce dataframe contient {} lignes et {} colonnes \".format(data.shape[0], data.shape[1]))"
   ]
  },
  {
   "cell_type": "code",
   "execution_count": null,
   "metadata": {},
   "outputs": [],
   "source": [
    "# visualisation du count des valeurs :\n",
    "data['BuildingType'].value_counts()"
   ]
  },
  {
   "cell_type": "code",
   "execution_count": null,
   "metadata": {},
   "outputs": [],
   "source": [
    "# correction du nom d'un individu\n",
    "data['BuildingType'] = data['BuildingType'].replace('Nonresidential WA','NonResidential')"
   ]
  },
  {
   "cell_type": "markdown",
   "metadata": {},
   "source": [
    "Nous nous interressons aux valeurs nulles de nos variables :\n",
    "- SiteEnergyUseWN(kBtu) : supprimer les individus = 0\n",
    "- TotalGHGEmissions : idem\n",
    "- NumberofBuildings : idem"
   ]
  },
  {
   "cell_type": "code",
   "execution_count": null,
   "metadata": {},
   "outputs": [],
   "source": [
    "# affichage 0 des colonnes\n",
    "(data[['SiteEnergyUseWN(kBtu)', 'TotalGHGEmissions','NumberofBuildings']] == 0).sum()"
   ]
  },
  {
   "cell_type": "code",
   "execution_count": null,
   "metadata": {},
   "outputs": [],
   "source": [
    "# suppression des individus = 0 \n",
    "data = data.dropna(subset=['SiteEnergyUseWN(kBtu)', 'TotalGHGEmissions', 'NumberofBuildings'])\n",
    "data = data.drop(index=data[(data['SiteEnergyUseWN(kBtu)'] == 0) | (data['TotalGHGEmissions'] == 0) | (data['NumberofBuildings'] == 0)].index)\n",
    "\n",
    "# affichage 0 des colonnes\n",
    "(data[['SiteEnergyUseWN(kBtu)', 'TotalGHGEmissions','NumberofBuildings']] == 0).sum()"
   ]
  },
  {
   "cell_type": "code",
   "execution_count": null,
   "metadata": {},
   "outputs": [],
   "source": [
    "# affichage de la shape\n",
    "print(\"Ce dataframe contient {} lignes et {} colonnes \".format(data.shape[0], data.shape[1]))"
   ]
  },
  {
   "cell_type": "markdown",
   "metadata": {},
   "source": [
    "Nous supprimons les colonnes inutiles :\n",
    "- City : toutes les valeurs sont égales à Seattle\n",
    "- State : toutes les valeurs sont égales à Seattle WA\n",
    "- DataYear : toutes les valeurs sont égales à 2016\n",
    "- YearsENERGYSTARCertified : les valeurs ne sont pas exploitables et le taux de remplissage est faible\n",
    "- Comments : taux de remplissage quasi nul, peu utile\n",
    "- Suppression de la colonne ENERGYSTARScore car trop de valeurs manquantes\n",
    "- Suppression de la colonne ZipCode car inutile\n",
    "- Suppression longitude et latitude"
   ]
  },
  {
   "cell_type": "code",
   "execution_count": null,
   "metadata": {},
   "outputs": [],
   "source": [
    "# suppression des colonnes inutiles\n",
    "data = data.drop(columns=[\"City\", \"State\", \"DataYear\", \"YearsENERGYSTARCertified\",\"Comments\",\"ZipCode\",\"Longitude\",\"Latitude\"])\n",
    "\n",
    "# affichage de la shape\n",
    "print(\"Ce dataframe contient {} lignes et {} colonnes \".format(data.shape[0], data.shape[1]))"
   ]
  },
  {
   "cell_type": "markdown",
   "metadata": {},
   "source": [
    "Nous traitons maintenant les valeurs aberrantes :\n",
    "- Outlier : suppression des valeurs Low et High oulier, puis suppression de la colonne\n",
    "- ComplianceStatus : suppression des valeurs Non-compliant et colonne"
   ]
  },
  {
   "cell_type": "code",
   "execution_count": null,
   "metadata": {},
   "outputs": [],
   "source": [
    "# affichage des valeurs outlier\n",
    "data['Outlier'].value_counts()"
   ]
  },
  {
   "cell_type": "code",
   "execution_count": null,
   "metadata": {},
   "outputs": [],
   "source": [
    "# affichage des valeurs outlier\n",
    "data['ComplianceStatus'].value_counts()"
   ]
  },
  {
   "cell_type": "code",
   "execution_count": null,
   "metadata": {},
   "outputs": [],
   "source": [
    "# affichage des valeurs DefaultData\n",
    "data['DefaultData'].value_counts()"
   ]
  },
  {
   "cell_type": "code",
   "execution_count": null,
   "metadata": {},
   "outputs": [],
   "source": [
    "# suppression des individus ouliers\n",
    "data = data.loc[(data[\"Outlier\"] == 'Non-outlier')]\n",
    "\n",
    "# suppression des individus Error \n",
    "data = data.loc[data[\"ComplianceStatus\"].isin(['Compliant', 'Error - Correct Default Data'])]\n",
    "\n",
    "# suppression de la colonne inutile désormais\n",
    "data = data.drop(columns=[\"Outlier\"])\n",
    "\n",
    "# suppression de la colonne inutile désormais\n",
    "data = data.drop(columns=[\"ComplianceStatus\"])\n",
    "\n",
    "# suppression de la colonne inutile désormais\n",
    "data = data.drop(columns=[\"DefaultData\"])"
   ]
  },
  {
   "cell_type": "markdown",
   "metadata": {},
   "source": [
    "Nous affichons les statistiques descriptives des variables numériques afin de repérer les valeurs aberrantes."
   ]
  },
  {
   "cell_type": "code",
   "execution_count": null,
   "metadata": {},
   "outputs": [],
   "source": [
    "# création liste variables numériques \n",
    "numeric_cols  = data.select_dtypes(include=['int', 'float']).columns.tolist()\n",
    "\n",
    "# Calculer les statistiques descriptives\n",
    "descriptive_stats = data[numeric_cols].describe()\n",
    "\n",
    "# Afficher les statistiques descriptives\n",
    "print(descriptive_stats)"
   ]
  },
  {
   "cell_type": "markdown",
   "metadata": {},
   "source": [
    "Nous traitons les valeurs aberrantes suivantes :\n",
    "- NumberofFloors : Selon Wikipédia, le plus grand immeuble de Seattle compte 76 étages, suppression des valeurs sup à 76\n",
    "- TotalGHGEmissions, GHGEmissionsIntensity, Electricity(kBtu), Electricity(kWh), SourceEUIWN(kBtu/sf) : suppression des valeurs négatives\n"
   ]
  },
  {
   "cell_type": "code",
   "execution_count": null,
   "metadata": {},
   "outputs": [],
   "source": [
    "# suppression des individus sup à 76\n",
    "data = data.loc[data['NumberofFloors']<= 76]"
   ]
  },
  {
   "cell_type": "code",
   "execution_count": null,
   "metadata": {},
   "outputs": [],
   "source": [
    "# liste de variable sans longitude pour supprimer les individus négatifs\n",
    "numeric_cols2 = numeric_cols.copy()\n",
    "\n",
    "variable_a_supprimer = \"Longitude\"\n",
    "if variable_a_supprimer in numeric_cols2:\n",
    "    numeric_cols2.remove(variable_a_supprimer)\n",
    "    \n",
    "    # Filtrer les individus avec au moins une valeur négative dans une colonne numérique\n",
    "negative_values_numeric = data[(data[numeric_cols2] < 0).any(axis=1)]\n",
    "\n",
    "# Afficher les individus \n",
    "negative_values_numeric"
   ]
  },
  {
   "cell_type": "code",
   "execution_count": null,
   "metadata": {},
   "outputs": [],
   "source": [
    "# Supprimer l'individu aberrant\n",
    "data = data[data['OSEBuildingID'] != 49784]\n",
    "\n",
    "\n",
    "# affichage de la shape\n",
    "print(\"Ce dataframe contient {} lignes et {} colonnes \".format(data.shape[0], data.shape[1]))"
   ]
  },
  {
   "cell_type": "markdown",
   "metadata": {},
   "source": [
    "Renommage des valeurs de Neighborhood"
   ]
  },
  {
   "cell_type": "code",
   "execution_count": null,
   "metadata": {},
   "outputs": [],
   "source": [
    "# Renommer les valeurs identiques\n",
    "data['Neighborhood'].replace({\n",
    "    'Ballard': 'BALLARD',\n",
    "    'Delridge': 'DELRIDGE',\n",
    "    'North': 'NORTH',\n",
    "    'Northwest': 'NORTHWEST',\n",
    "    'Central': 'CENTRAL',\n",
    "    'DELRIDGE NEIGHBORHOODS': 'DELRIDGE'\n",
    "}, inplace=True)\n",
    "\n",
    "# Afficher les valeurs uniques après la modification\n",
    "print(data['Neighborhood'].unique())\n"
   ]
  },
  {
   "cell_type": "markdown",
   "metadata": {},
   "source": [
    "Nous traitons desormais les valeurs manquantes :\n",
    "- SecondLargestPropertyUseType : type d'utilisation secondaire de la propriété, mise à \"None\"\n",
    "- SecondLargestPropertyUseTypeGFA : superficie d'utilisation secondaire de la propriété, mise à 0\n",
    "- ThirdLargestPropertyUseType : type d'utilisation tertiaire de la propriété mise à \"None\"\n",
    "- ThirdLargestPropertyUseTypeGFA : superficie d'utilisation tertiaire de la propriété, mise à 0\n",
    "- Supprimer les 4 lignes dont les valeurs sont manquantes\n",
    "- ENERGYSTARScore : Remplacer les nan par 0\n"
   ]
  },
  {
   "cell_type": "code",
   "execution_count": null,
   "metadata": {},
   "outputs": [],
   "source": [
    "# Remplacer les valeurs manquantes dans SecondLargestPropertyUseType par \"None\"\n",
    "data['SecondLargestPropertyUseType'].fillna(\"None\", inplace=True)\n",
    "\n",
    "# Remplacer les valeurs manquantes dans SecondLargestPropertyUseTypeGFA par 0\n",
    "data['SecondLargestPropertyUseTypeGFA'].fillna(0, inplace=True)\n",
    "\n",
    "# Remplacer les valeurs manquantes dans ThirdLargestPropertyUseType par \"None\"\n",
    "data['ThirdLargestPropertyUseType'].fillna(\"None\", inplace=True)\n",
    "\n",
    "# Remplacer les valeurs manquantes dans ThirdLargestPropertyUseTypeGFA par 0\n",
    "data['ThirdLargestPropertyUseTypeGFA'].fillna(0, inplace=True)\n",
    "\n",
    "# Supprimer les lignes avec des valeurs manquantes dans les colonnes spécifiées\n",
    "data.dropna(subset=['LargestPropertyUseType', 'LargestPropertyUseTypeGFA'], inplace=True)\n",
    "\n",
    "# Remplacer les nan par 0\n",
    "data['ENERGYSTARScore'].fillna(0, inplace=True)\n",
    "\n",
    "# affichage de la shape\n",
    "print(\"Ce dataframe contient {} lignes et {} colonnes \".format(data.shape[0], data.shape[1]))\n"
   ]
  },
  {
   "cell_type": "code",
   "execution_count": null,
   "metadata": {},
   "outputs": [],
   "source": [
    "data_info(data)"
   ]
  },
  {
   "cell_type": "markdown",
   "metadata": {},
   "source": [
    "#### <font color='skyblue'> Feature Engineering </font>\n"
   ]
  },
  {
   "cell_type": "markdown",
   "metadata": {},
   "source": [
    "- Création d'une feature ancienneté du batiment"
   ]
  },
  {
   "cell_type": "code",
   "execution_count": null,
   "metadata": {},
   "outputs": [],
   "source": [
    "#création de la colonne BuildingAge\n",
    "data['BuildingAge'] = 2016-data['YearBuilt']"
   ]
  },
  {
   "cell_type": "markdown",
   "metadata": {},
   "source": [
    "- Création d'une feature pourcentage de consommation de gaz et d'éléctricité"
   ]
  },
  {
   "cell_type": "code",
   "execution_count": null,
   "metadata": {},
   "outputs": [],
   "source": [
    "# Créer la nouvelle colonne GasUseRatio(%)\n",
    "data = data.assign(GasUseRatio = lambda x: (x['NaturalGas(kBtu)'] / x['SiteEnergyUse(kBtu)']))"
   ]
  },
  {
   "cell_type": "code",
   "execution_count": null,
   "metadata": {},
   "outputs": [],
   "source": [
    "# Créer la nouvelle colonne ElectricityUseRatio(%)\n",
    "data = data.assign(ElectricityUseRatio = lambda x: (x['Electricity(kBtu)'] / x['SiteEnergyUse(kBtu)']))"
   ]
  },
  {
   "cell_type": "markdown",
   "metadata": {},
   "source": [
    "- Création d'une feature pourcentage de parking"
   ]
  },
  {
   "cell_type": "code",
   "execution_count": null,
   "metadata": {},
   "outputs": [],
   "source": [
    "# Créer la nouvelle colonne GasUseRatio(%)\n",
    "data = data.assign(ParkingGFARatio = lambda x: (x['PropertyGFAParking'] / x['PropertyGFATotal']))"
   ]
  },
  {
   "cell_type": "markdown",
   "metadata": {},
   "source": [
    "- Regroupement des variables Building type en 12 catégories"
   ]
  },
  {
   "cell_type": "code",
   "execution_count": null,
   "metadata": {},
   "outputs": [],
   "source": [
    "# Afficher les valeurs uniques de la colonne LargestPropertyUseType\n",
    "unique_values = data['LargestPropertyUseType'].unique()\n",
    "print(unique_values)"
   ]
  },
  {
   "cell_type": "code",
   "execution_count": null,
   "metadata": {},
   "outputs": [],
   "source": [
    "def assign_category(property_type):\n",
    "    if any(word in property_type for word in ['Hospital', 'Clinic', 'Medical', 'Urgent Care', 'Rehabilitation', 'Residential Care', 'Prison']):\n",
    "        return 'Hospital'\n",
    "    elif any(word in property_type for word in ['School', 'University', 'Library', 'Dormitory', 'Education', 'Pre-school', 'Daycare', 'Adult']):\n",
    "        return 'Education'\n",
    "    elif any(word in property_type for word in ['Hotel', 'Dealership', 'Store', 'Supermarket', 'Restaurant', 'Theater', 'Bank', 'Services', 'Repair']):\n",
    "        return 'Shopping'\n",
    "    elif any(word in property_type for word in ['Police', 'Courthouse', 'Office', 'Financial', 'Distribution', 'Parking', 'Fire']):\n",
    "        return 'Government'\n",
    "    elif any(word in property_type for word in ['Manufacturing', 'Industrial']):\n",
    "        return 'Industrial'\n",
    "    elif any(word in property_type for word in ['Entertainment', 'Museum', 'Performing Arts']):\n",
    "        return 'Entertainment'\n",
    "    elif any(word in property_type for word in ['Gym', 'Fitness']):\n",
    "        return 'Wellness'\n",
    "    elif any(word in property_type for word in ['Meeting Hall', 'Community', 'Worship']):\n",
    "        return 'Community'\n",
    "    elif any(word in property_type for word in ['Data Center', 'Laboratory']):\n",
    "        return 'Workplace'\n",
    "    elif any(word in property_type for word in ['Storage', 'Warehouse']):\n",
    "        return 'Storage'\n",
    "    elif 'Residential' in property_type:\n",
    "        return 'Residential'\n",
    "    elif 'Services' in property_type:\n",
    "        return 'Services'\n",
    "    else:\n",
    "        return 'Miscellaneous'\n",
    "\n",
    "# Appliquer la fonction assign_category à la colonne \"LargestPropertyUseType\" pour créer une nouvelle colonne \"Category\"\n",
    "data['Category'] = data['LargestPropertyUseType'].apply(assign_category)\n",
    "\n",
    "# Afficher le DataFrame avec la nouvelle colonne \"Category\"\n",
    "data.head(3)\n",
    "\n"
   ]
  },
  {
   "cell_type": "code",
   "execution_count": null,
   "metadata": {},
   "outputs": [],
   "source": [
    "# Afficher les valeurs uniques de la colonne LargestPropertyUseType\n",
    "unique_values = data['Category'].unique()\n",
    "\n",
    "# Afficher les valeurs uniques\n",
    "print(unique_values)"
   ]
  },
  {
   "cell_type": "markdown",
   "metadata": {},
   "source": [
    "- Présélection de variables pertinentes"
   ]
  },
  {
   "cell_type": "code",
   "execution_count": null,
   "metadata": {},
   "outputs": [],
   "source": [
    "# Convertir la variable 'OSEBuildingID' en type 'object'\n",
    "data['OSEBuildingID'] = data['OSEBuildingID'].astype('object')\n",
    "\n",
    "# Afficher les variables numériques\n",
    "numeric_variables = data.select_dtypes(include=['int', 'float'])\n",
    "numeric_variable_names = list(numeric_variables.columns)\n",
    "\n",
    "numeric_variable_names"
   ]
  },
  {
   "cell_type": "markdown",
   "metadata": {},
   "source": [
    "- Nous conservons : \n",
    "['OSEBuildingID',\n",
    " 'NumberofBuildings',\n",
    " 'NumberofFloors',\n",
    " 'PropertyGFABuilding(s)',\n",
    " 'LargestPropertyUseTypeGFA',\n",
    " 'SecondLargestPropertyUseTypeGFA',\n",
    " 'ThirdLargestPropertyUseTypeGFA',\n",
    " 'SiteEUI(kBtu/sf)',\n",
    " 'SourceEUI(kBtu/sf)',\n",
    " 'SiteEnergyUse(kBtu)',\n",
    " 'SteamUse(kBtu)',\n",
    " 'Electricity(kBtu)',\n",
    " 'NaturalGas(kBtu)',\n",
    " 'TotalGHGEmissions',\n",
    " 'GHGEmissionsIntensity',\n",
    " 'BuildingAge']"
   ]
  },
  {
   "cell_type": "code",
   "execution_count": null,
   "metadata": {},
   "outputs": [],
   "source": [
    "# Afficher les variables numériques\n",
    "categorical_variables = data.select_dtypes(include=['object'])\n",
    "categorical_variable_names = list(categorical_variables.columns)\n",
    "categorical_variable_names"
   ]
  },
  {
   "cell_type": "markdown",
   "metadata": {},
   "source": [
    "- Nous conservons :\n",
    "['OSEBuildingID',\n",
    " 'PrimaryPropertyType',\n",
    " 'PropertyName',\n",
    " 'Address',\n",
    " 'Neighborhood',\n",
    " 'ListOfAllPropertyUseTypes',\n",
    " 'LargestPropertyUseType',\n",
    " 'SecondLargestPropertyUseType',\n",
    " 'ThirdLargestPropertyUseType']"
   ]
  },
  {
   "cell_type": "code",
   "execution_count": null,
   "metadata": {},
   "outputs": [],
   "source": [
    "# Créer un df avec les variables numériques\n",
    "categorical_data = data[['Category', 'Neighborhood']]\n",
    "\n",
    "# Créer un df avec les variables numériques\n",
    "numeric_data = data[['NumberofFloors','NumberofBuildings','PropertyGFATotal','BuildingAge','GasUseRatio','ElectricityUseRatio','ParkingGFARatio',\n",
    "                        'ENERGYSTARScore','SiteEnergyUse(kBtu)','TotalGHGEmissions']]\n"
   ]
  },
  {
   "cell_type": "code",
   "execution_count": null,
   "metadata": {},
   "outputs": [],
   "source": [
    "# Convertir la colonne \"NumberofBuildings\" en type int64\n",
    "data['NumberofBuildings'] = data['NumberofBuildings'].astype('int64')"
   ]
  },
  {
   "cell_type": "code",
   "execution_count": null,
   "metadata": {},
   "outputs": [],
   "source": [
    "# Variables à arrondir\n",
    "variables_to_round = ['GasUseRatio', 'ParkingGFARatio', 'ENERGYSTARScore', 'SiteEnergyUse(kBtu)', 'TotalGHGEmissions','ElectricityUseRatio']\n",
    "\n",
    "# Arrondir les valeurs à 2 chiffres après la virgule pour les variables spécifiées\n",
    "data[variables_to_round] = data[variables_to_round].round(2)"
   ]
  },
  {
   "cell_type": "markdown",
   "metadata": {},
   "source": [
    "#### <font color='skyblue'> Analyse préliminaire </font>\n"
   ]
  },
  {
   "cell_type": "markdown",
   "metadata": {},
   "source": [
    "- Observation des distributions "
   ]
  },
  {
   "cell_type": "code",
   "execution_count": null,
   "metadata": {},
   "outputs": [],
   "source": [
    "# Afficher les distributions\n",
    "numeric_variables = numeric_data.columns\n",
    "num_plots_per_row = 4\n",
    "total_plots = len(numeric_variables)\n",
    "num_rows = total_plots // num_plots_per_row\n",
    "\n",
    "if total_plots % num_plots_per_row != 0:\n",
    "    num_rows += 1\n",
    "\n",
    "fig, axes = plt.subplots(num_rows, num_plots_per_row, figsize=(15, 5*num_rows))\n",
    "plt.subplots_adjust(hspace=0.5)\n",
    "\n",
    "# créer distribution\n",
    "for i, variable in enumerate(numeric_variables):\n",
    "    row_index = i // num_plots_per_row\n",
    "    col_index = i % num_plots_per_row\n",
    "    \n",
    "    if num_rows == 1:\n",
    "        ax = axes[col_index]\n",
    "    else:\n",
    "        ax = axes[row_index, col_index]\n",
    "    \n",
    "    sns.histplot(numeric_data[variable], ax=ax, kde=True)\n",
    "    ax.set_title(variable)\n",
    "    ax.set_xlabel('')\n",
    "    ax.set_ylabel('')\n",
    "\n",
    "plt.show()\n"
   ]
  },
  {
   "cell_type": "code",
   "execution_count": null,
   "metadata": {},
   "outputs": [],
   "source": [
    "# Créer des boxplots pour chaque variable numérique\n",
    "plt.figure(figsize=(12, 8))\n",
    "sns.boxplot(data=numeric_data, orient='h')\n",
    "plt.title('Boxplots des variables numériques')\n",
    "plt.xlabel('Valeurs')\n",
    "plt.show()"
   ]
  },
  {
   "cell_type": "markdown",
   "metadata": {},
   "source": [
    "- Observation des variables cibles"
   ]
  },
  {
   "cell_type": "code",
   "execution_count": null,
   "metadata": {},
   "outputs": [],
   "source": [
    "# Sélectionner les variables cibles\n",
    "target_variables = ['SiteEnergyUse(kBtu)', 'TotalGHGEmissions']\n",
    "\n",
    "# Afficher distribution et boxplot\n",
    "fig, axes = plt.subplots(2, 2, figsize=(12, 10))\n",
    "\n",
    "for i, variable in enumerate(target_variables):\n",
    "    sns.histplot(data=numeric_data, x=variable, kde=True, ax=axes[i, 0])\n",
    "    axes[i, 0].set_title(f'Distribution de {variable}')\n",
    "    axes[i, 0].set_xlabel('')\n",
    "    axes[i, 0].set_ylabel('Fréquence')\n",
    "\n",
    "for i, variable in enumerate(target_variables):\n",
    "    sns.boxplot(data=numeric_data, y=variable, ax=axes[i, 1])\n",
    "    axes[i, 1].set_title(f'Boxplot de {variable}')\n",
    "    axes[i, 1].set_xlabel('')\n",
    "    axes[i, 1].set_ylabel('')\n",
    "\n",
    "plt.tight_layout()\n",
    "\n",
    "plt.show()\n"
   ]
  },
  {
   "cell_type": "markdown",
   "metadata": {},
   "source": [
    "- Tests de normalité"
   ]
  },
  {
   "cell_type": "markdown",
   "metadata": {},
   "source": [
    "Test Shapiro sur l'ensemble des variables numériques."
   ]
  },
  {
   "cell_type": "code",
   "execution_count": null,
   "metadata": {},
   "outputs": [],
   "source": [
    "# Créer une liste pour stocker les résultats des tests de normalité\n",
    "shapiro_tests = []\n",
    "\n",
    "# Parcourir toutes les colonnes numériques et effectuer le test de Shapiro-Wilk\n",
    "for column in numeric_data.columns:\n",
    "    # Effectuer le test de Shapiro-Wilk pour chaque variable\n",
    "    stat, p_value = shapiro(numeric_data[column])\n",
    "    \n",
    "    # Ajouter les résultats du test à la liste\n",
    "    shapiro_tests.append((column, stat, p_value))\n",
    "\n",
    "# Afficher les résultats des tests de normalité\n",
    "print(\"Résultats des tests de normalité :\")\n",
    "for result in shapiro_tests:\n",
    "    print(f\"Variable : {result[0]}, Statistique de test : {result[1]}, p-value : {result[2]}\")\n"
   ]
  },
  {
   "cell_type": "markdown",
   "metadata": {},
   "source": [
    "Test Agostino-Pearson sur l'ensemble des variables numériques."
   ]
  },
  {
   "cell_type": "code",
   "execution_count": null,
   "metadata": {},
   "outputs": [],
   "source": [
    "# Créer une liste pour stocker les résultats des tests de normalité\n",
    "normaltest_tests = []\n",
    "\n",
    "# Parcourir toutes les colonnes numériques et effectuer le test de Shapiro-Wilk\n",
    "for column in numeric_data.columns:\n",
    "    # Effectuer le test de Shapiro-Wilk pour chaque variable\n",
    "    stat, p_value = normaltest(numeric_data[column])\n",
    "    \n",
    "    # Ajouter les résultats du test à la liste\n",
    "    normaltest_tests.append((column, stat, p_value))\n",
    "\n",
    "# Afficher les résultats des tests de normalité\n",
    "print(\"Résultats des tests de normalité :\")\n",
    "for result in normaltest_tests:\n",
    "    print(f\"Variable : {result[0]}, Statistique de test : {result[1]}, p-value : {result[2]}\")\n"
   ]
  },
  {
   "cell_type": "markdown",
   "metadata": {},
   "source": [
    "En se basant sur les résultats, quasiment toutes les variables ont des p-valeurs de 0.0, ce qui signifie que la probabilité d'obtenir ces résultats ou des résultats encore plus extrêmes si les données suivaient une distribution normale est extrêmement faible. Par conséquent, nous rejetterions l'hypothèse nulle pour toutes les variables et concluons que les données ne suivent pas une distribution normale."
   ]
  },
  {
   "cell_type": "code",
   "execution_count": null,
   "metadata": {},
   "outputs": [],
   "source": [
    "# Calculer la matrice de corrélation\n",
    "correlation_matrix = numeric_data.corr()\n",
    "\n",
    "# Créer une heatmap pour visualiser la matrice de corrélation\n",
    "plt.figure(figsize=(12, 10))\n",
    "sns.heatmap(correlation_matrix, annot=True, cmap='coolwarm', fmt=\".2f\", square=True)\n",
    "plt.title('Matrice de corrélation des variables')\n",
    "plt.show()\n"
   ]
  },
  {
   "cell_type": "markdown",
   "metadata": {},
   "source": [
    "- Normalisation logarithmique"
   ]
  },
  {
   "cell_type": "code",
   "execution_count": null,
   "metadata": {},
   "outputs": [],
   "source": [
    "columns_to_transform = numeric_data.columns\n",
    "\n",
    "def apply_log(X):\n",
    "    output = pd.DataFrame(index=X.index)\n",
    "    for col in X.columns:\n",
    "        output[col] = np.log(X[col])\n",
    "    return output\n",
    "\n",
    "log_transformer = FunctionTransformer(apply_log)\n",
    "\n",
    "pipeline = ColumnTransformer(transformers=[\n",
    "    ('log', log_transformer, columns_to_transform)\n",
    "], remainder='passthrough')  \n",
    "\n",
    "X = numeric_data\n",
    "X_transformed = pipeline.fit_transform(X)\n",
    "\n",
    "X_transformed_df = pd.DataFrame(X_transformed, columns=columns_to_transform.tolist() + X.columns.difference(columns_to_transform).tolist())\n"
   ]
  },
  {
   "cell_type": "code",
   "execution_count": null,
   "metadata": {},
   "outputs": [],
   "source": [
    "# Affichage des distibutions après transformation\n",
    "num_plots_per_row = 3\n",
    "total_plots = len(X_transformed_df.columns)\n",
    "\n",
    "num_rows = total_plots // num_plots_per_row\n",
    "if total_plots % num_plots_per_row != 0:\n",
    "    num_rows += 1\n",
    "\n",
    "fig, axes = plt.subplots(num_rows, num_plots_per_row, figsize=(15, 5*num_rows), squeeze=False)\n",
    "plt.subplots_adjust(hspace=0.5)\n",
    "\n",
    "for ax in axes.flatten()[total_plots:]:\n",
    "    ax.axis('off')\n",
    "\n",
    "for i, variable in enumerate(X_transformed_df.columns):\n",
    "    row_index = i // num_plots_per_row\n",
    "    col_index = i % num_plots_per_row\n",
    "    ax = axes[row_index, col_index]\n",
    "    \n",
    "    sns.histplot(X_transformed_df[variable], ax=ax, kde=True, stat=\"density\")\n",
    "    ax.set_title(variable)\n",
    "    ax.set_xlabel('')\n",
    "    ax.set_ylabel('')\n",
    "\n",
    "plt.tight_layout()\n",
    "plt.show()"
   ]
  },
  {
   "cell_type": "code",
   "execution_count": null,
   "metadata": {},
   "outputs": [],
   "source": [
    "# Sélectionner les variables cibles\n",
    "target_variables = ['SiteEnergyUse(kBtu)', 'TotalGHGEmissions']\n",
    "\n",
    "# Appliquer une transformation logarithmique aux variables cibles\n",
    "for variable in target_variables:\n",
    "    numeric_data[variable] = np.log(numeric_data[variable])\n",
    "\n",
    "# Afficher distribution et boxplot\n",
    "fig, axes = plt.subplots(2, 2, figsize=(12, 10))\n",
    "\n",
    "for i, variable in enumerate(target_variables):\n",
    "    sns.histplot(data=numeric_data, x=variable, kde=True, ax=axes[i, 0])\n",
    "    axes[i, 0].set_title(f'Distribution de {variable}')\n",
    "    axes[i, 0].set_xlabel('')\n",
    "    axes[i, 0].set_ylabel('Fréquence')\n",
    "\n",
    "for i, variable in enumerate(target_variables):\n",
    "    sns.boxplot(data=numeric_data, y=variable, ax=axes[i, 1])\n",
    "    axes[i, 1].set_title(f'Boxplot de {variable}')\n",
    "    axes[i, 1].set_xlabel('')\n",
    "    axes[i, 1].set_ylabel('')\n",
    "\n",
    "plt.tight_layout()\n",
    "\n",
    "plt.show()\n"
   ]
  },
  {
   "cell_type": "code",
   "execution_count": null,
   "metadata": {},
   "outputs": [],
   "source": [
    "# liste pour stocker les résultats des tests de normalité\n",
    "shapiro_tests = []\n",
    "\n",
    "for column in X_transformed_df.columns:\n",
    "    stat, p_value = shapiro(X_transformed_df[column])\n",
    "    shapiro_tests.append((column, stat, p_value))\n",
    "\n",
    "print(\"Résultats des tests de normalité :\")\n",
    "for result in shapiro_tests:\n",
    "    print(f\"Variable : {result[0]}, Statistique de test : {result[1]}, p-value : {result[2]}\")"
   ]
  },
  {
   "cell_type": "code",
   "execution_count": null,
   "metadata": {},
   "outputs": [],
   "source": [
    "data.to_csv('./data.csv', sep=';', encoding='utf-8')"
   ]
  },
  {
   "cell_type": "markdown",
   "metadata": {},
   "source": [
    "#### <font color='skyblue'> Analyse des variables catégorielles </font>\n"
   ]
  },
  {
   "cell_type": "code",
   "execution_count": null,
   "metadata": {},
   "outputs": [],
   "source": [
    "categorical_data = ['Category', 'Neighborhood']\n",
    "numerical_data = ['NumberofFloors','PropertyGFATotal','NumberofBuildings','BuildingAge','GasUseRatio','ParkingGFARatio',\n",
    "                'ENERGYSTARScore','SiteEnergyUse(kBtu)','TotalGHGEmissions']"
   ]
  },
  {
   "cell_type": "markdown",
   "metadata": {},
   "source": [
    "- Neighborhood"
   ]
  },
  {
   "cell_type": "code",
   "execution_count": null,
   "metadata": {},
   "outputs": [],
   "source": [
    "# Visualisation de Neighborhood\n",
    "ax, fig = plt.subplots(figsize=(12,8)) \n",
    "ax = sns.countplot(data=data, y='Neighborhood', alpha=.8,\n",
    "              order=data['Neighborhood'].value_counts().index, orient='horizontal')\n",
    "ax.set_title(\"Batîment Neighborhood de Seattle\")\n",
    "plt.show()"
   ]
  },
  {
   "cell_type": "code",
   "execution_count": null,
   "metadata": {},
   "outputs": [],
   "source": [
    "# visualisation de TotalGHGEmissions en fonction de Neighborhood\n",
    "fig, axes = plt.subplots(nrows=1, ncols=2, figsize=(12, 6))\n",
    "\n",
    "sns.boxplot(x='Neighborhood', y='TotalGHGEmissions', data=data, ax=axes[0])\n",
    "axes[0].set_title('Distribution des émissions totales de gaz à effet de serre par quartier')\n",
    "axes[0].set_xlabel('Quartier')\n",
    "axes[0].set_ylabel('Émissions totales de gaz à effet de serre')\n",
    "axes[0].tick_params(axis='x', rotation=45) \n",
    "\n",
    "sns.barplot(x='Neighborhood', y='TotalGHGEmissions', data=data, ax=axes[1], ci=None)\n",
    "axes[1].set_title('Moyenne des émissions totales de gaz à effet de serre par quartier')\n",
    "axes[1].set_xlabel('Quartier')\n",
    "axes[1].set_ylabel('Consommation d\\'énergie du site (kBtu)')\n",
    "axes[1].tick_params(axis='x', rotation=45)  \n",
    "\n",
    "plt.tight_layout()\n",
    "plt.show()\n"
   ]
  },
  {
   "cell_type": "code",
   "execution_count": null,
   "metadata": {},
   "outputs": [],
   "source": [
    "# visualisation de SiteEnergyUse(kBtu) en fonction de Neighborhood\n",
    "fig, axes = plt.subplots(nrows=1, ncols=2, figsize=(12, 6))\n",
    "\n",
    "sns.boxplot(x='Neighborhood', y='SiteEnergyUse(kBtu)', data=data, ax=axes[0])\n",
    "axes[0].set_title('Distribution de la consommation en énergie en fonction des quartiers')\n",
    "axes[0].set_xlabel('Quartier')\n",
    "axes[0].set_ylabel('Émissions totales de gaz à effet de serre')\n",
    "axes[0].tick_params(axis='x', rotation=45) \n",
    "\n",
    "sns.barplot(x='Neighborhood', y='SiteEnergyUse(kBtu)', data=data, ax=axes[1], ci=None)\n",
    "axes[1].set_title('Moyenne de la consommation en énergie en fonction des quartiers ')\n",
    "axes[1].set_xlabel('Quartier')\n",
    "axes[1].set_ylabel('Consommation d\\'énergie du site (kBtu)')\n",
    "axes[1].tick_params(axis='x', rotation=45)  \n",
    "\n",
    "plt.tight_layout()\n",
    "plt.show()\n"
   ]
  },
  {
   "cell_type": "markdown",
   "metadata": {},
   "source": [
    "- LargestPropertyUseType"
   ]
  },
  {
   "cell_type": "code",
   "execution_count": null,
   "metadata": {},
   "outputs": [],
   "source": [
    "# Visualisation de LargestPropertyUseType\n",
    "ax, fig = plt.subplots(figsize=(12,8)) \n",
    "ax = sns.countplot(data=data, y='Category', alpha=.9,\n",
    "              order=data['Category'].value_counts().index, orient='horizontal')\n",
    "ax.set_title(\"Usage des batiment de Seattle\")\n",
    "plt.show()"
   ]
  },
  {
   "cell_type": "code",
   "execution_count": null,
   "metadata": {},
   "outputs": [],
   "source": [
    "# visualisation de TotalGHGEmissions en fonction de Category\n",
    "fig, axes = plt.subplots(nrows=1, ncols=2, figsize=(15, 6))\n",
    "\n",
    "sns.boxplot(x='Category', y='TotalGHGEmissions', data=data, ax=axes[0])\n",
    "axes[0].set_title('Distribution des émissions totales de gaz à effet de serre en fonction de l\\'usage')\n",
    "axes[0].set_xlabel('Quartier')\n",
    "axes[0].set_ylabel('Émissions totales de gaz à effet de serre')\n",
    "axes[0].tick_params(axis='x', rotation=45) \n",
    "\n",
    "sns.barplot(x='Category', y='TotalGHGEmissions', data=data, ax=axes[1], ci=None)\n",
    "axes[1].set_title('Moyenne des émissions totales de gaz à effet de serre en fonction de l\\'usage')\n",
    "axes[1].set_xlabel('Quartier')\n",
    "axes[1].set_ylabel('Consommation d\\'énergie du site (kBtu)')\n",
    "axes[1].tick_params(axis='x', rotation=45)  \n",
    "\n",
    "plt.tight_layout()\n",
    "plt.show()"
   ]
  },
  {
   "cell_type": "code",
   "execution_count": null,
   "metadata": {},
   "outputs": [],
   "source": [
    "# visualisation de SiteEnergyUse(kBtu) en fonction de Category\n",
    "fig, axes = plt.subplots(nrows=1, ncols=2, figsize=(15, 6))\n",
    "\n",
    "sns.boxplot(x='Category', y='SiteEnergyUse(kBtu)', data=data, ax=axes[0])\n",
    "axes[0].set_title('Distribution de la consommation en énergie en fonction de l\\'usage')\n",
    "axes[0].set_xlabel('Quartier')\n",
    "axes[0].set_ylabel('Émissions totales de gaz à effet de serre')\n",
    "axes[0].tick_params(axis='x', rotation=45) \n",
    "\n",
    "sns.barplot(x='Category', y='SiteEnergyUse(kBtu)', data=data, ax=axes[1], ci=None)\n",
    "axes[1].set_title('Moyenne de la consommation en énergie en fonction de l\\'usage')\n",
    "axes[1].set_xlabel('Quartier')\n",
    "axes[1].set_ylabel('Consommation d\\'énergie du site (kBtu)')\n",
    "axes[1].tick_params(axis='x', rotation=45)  \n",
    "\n",
    "plt.tight_layout()\n",
    "plt.show()"
   ]
  },
  {
   "cell_type": "markdown",
   "metadata": {},
   "source": [
    "- Catégories de batiment par quartier"
   ]
  },
  {
   "cell_type": "code",
   "execution_count": null,
   "metadata": {},
   "outputs": [],
   "source": [
    "# Créer une figure et un axe pour le graphique\n",
    "plt.figure(figsize=(10, 6))\n",
    "\n",
    "# Créer un graphique en barres pour visualiser les valeurs des variables qualitatives\n",
    "sns.countplot(x='Neighborhood', hue='Category', data=data)\n",
    "\n",
    "# Ajouter un titre et des labels aux axes\n",
    "plt.title('Répartition des catégories par quartier')\n",
    "plt.xlabel('Quartier')\n",
    "plt.ylabel('Nombre de bâtiments')\n",
    "\n",
    "# Faire pivoter les labels sur l'axe x pour une meilleure lisibilité\n",
    "plt.xticks(rotation=45, ha='right')\n",
    "\n",
    "# Afficher la légende\n",
    "plt.legend(title='Catégorie')\n",
    "\n",
    "# Afficher le graphique\n",
    "plt.tight_layout()\n",
    "plt.show()\n"
   ]
  },
  {
   "cell_type": "code",
   "execution_count": null,
   "metadata": {},
   "outputs": [],
   "source": [
    "import matplotlib.pyplot as plt\n",
    "\n",
    "# Créer une figure et un axe pour le graphique\n",
    "plt.figure(figsize=(20, 10))\n",
    "\n",
    "# Grouper les données par quartier et catégorie, puis compter le nombre de bâtiments dans chaque groupe\n",
    "grouped_data = data.groupby(['Neighborhood', 'Category']).size().unstack(fill_value=0)\n",
    "\n",
    "# Limiter le nombre de quartiers à afficher pour correspondre au nombre de sous-graphiques\n",
    "grouped_data = grouped_data.head(6)  \n",
    "\n",
    "# Créer un diagramme à secteurs pour chaque quartier\n",
    "for neighborhood in grouped_data.index:\n",
    "    plt.subplot(3, 2, grouped_data.index.tolist().index(neighborhood) + 1)\n",
    "    plt.pie(grouped_data.loc[neighborhood], labels=grouped_data.columns, autopct='%1.1f%%', startangle=140)\n",
    "    plt.title(neighborhood)\n",
    "\n",
    "# Ajuster la disposition pour éviter les chevauchements\n",
    "plt.tight_layout()\n",
    "\n",
    "# Afficher le graphique\n",
    "plt.show()\n"
   ]
  }
 ],
 "metadata": {
  "kernelspec": {
   "display_name": "base",
   "language": "python",
   "name": "python3"
  },
  "language_info": {
   "codemirror_mode": {
    "name": "ipython",
    "version": 3
   },
   "file_extension": ".py",
   "mimetype": "text/x-python",
   "name": "python",
   "nbconvert_exporter": "python",
   "pygments_lexer": "ipython3",
   "version": "3.11.5"
  }
 },
 "nbformat": 4,
 "nbformat_minor": 2
}
